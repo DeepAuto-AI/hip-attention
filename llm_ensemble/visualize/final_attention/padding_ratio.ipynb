{
 "cells": [
  {
   "cell_type": "code",
   "execution_count": 7,
   "metadata": {},
   "outputs": [],
   "source": [
    "per_query_token_cnt_diclist = [{32000: 1200, 0: 5, 2: 5, 4: 5, 6: 5, 8: 1, 10: 5, 12: 2, 14: 5, 16: 5, 18: 5, 20: 5, 22: 3, 24: 5, 26: 5, 28: 5, 30: 5}]\n",
    "\n",
    "# d.pop(32000, None)"
   ]
  },
  {
   "cell_type": "code",
   "execution_count": 8,
   "metadata": {},
   "outputs": [],
   "source": [
    "sorted_per_query_token_cnt_diclist = []\n",
    "\n",
    "for dic in per_query_token_cnt_diclist:\n",
    "    # Sorting each dictionary by its values in descending order\n",
    "    sorted_dic = dict(sorted(dic.items(), key=lambda item: item[1], reverse=True))\n",
    "    sorted_per_query_token_cnt_diclist.append(sorted_dic)"
   ]
  },
  {
   "cell_type": "code",
   "execution_count": 9,
   "metadata": {},
   "outputs": [
    {
     "data": {
      "text/plain": [
       "[{32000: 1200,\n",
       "  0: 5,\n",
       "  2: 5,\n",
       "  4: 5,\n",
       "  6: 5,\n",
       "  10: 5,\n",
       "  14: 5,\n",
       "  16: 5,\n",
       "  18: 5,\n",
       "  20: 5,\n",
       "  24: 5,\n",
       "  26: 5,\n",
       "  28: 5,\n",
       "  30: 5,\n",
       "  22: 3,\n",
       "  12: 2,\n",
       "  8: 1}]"
      ]
     },
     "execution_count": 9,
     "metadata": {},
     "output_type": "execute_result"
    }
   ],
   "source": [
    "sorted_per_query_token_cnt_diclist"
   ]
  }
 ],
 "metadata": {
  "kernelspec": {
   "display_name": "tree5",
   "language": "python",
   "name": "python3"
  },
  "language_info": {
   "codemirror_mode": {
    "name": "ipython",
    "version": 3
   },
   "file_extension": ".py",
   "mimetype": "text/x-python",
   "name": "python",
   "nbconvert_exporter": "python",
   "pygments_lexer": "ipython3",
   "version": "3.9.18"
  }
 },
 "nbformat": 4,
 "nbformat_minor": 2
}
