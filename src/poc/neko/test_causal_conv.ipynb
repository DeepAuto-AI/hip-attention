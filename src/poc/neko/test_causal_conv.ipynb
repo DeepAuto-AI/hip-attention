{
 "cells": [
  {
   "cell_type": "code",
   "execution_count": 1,
   "metadata": {},
   "outputs": [],
   "source": [
    "import os\n",
    "os.environ['PYTHONPATH'] = './'"
   ]
  },
  {
   "cell_type": "code",
   "execution_count": 2,
   "metadata": {},
   "outputs": [
    {
     "name": "stderr",
     "output_type": "stream",
     "text": [
      "2023-07-26 20:06:17.220390: W tensorflow/compiler/xla/stream_executor/platform/default/dso_loader.cc:64] Could not load dynamic library 'libnvinfer.so.7'; dlerror: libnvinfer.so.7: cannot open shared object file: No such file or directory; LD_LIBRARY_PATH: /usr/local/cuda-11.8/lib64::/home/ainl/tensorrt/TensorRT-8.5.2.2/lib\n",
      "2023-07-26 20:06:17.220453: W tensorflow/compiler/xla/stream_executor/platform/default/dso_loader.cc:64] Could not load dynamic library 'libnvinfer_plugin.so.7'; dlerror: libnvinfer_plugin.so.7: cannot open shared object file: No such file or directory; LD_LIBRARY_PATH: /usr/local/cuda-11.8/lib64::/home/ainl/tensorrt/TensorRT-8.5.2.2/lib\n",
      "2023-07-26 20:06:17.220459: W tensorflow/compiler/tf2tensorrt/utils/py_utils.cc:38] TF-TRT Warning: Cannot dlopen some TensorRT libraries. If you would like to use Nvidia GPU with TensorRT, please make sure the missing libraries mentioned above are installed properly.\n"
     ]
    }
   ],
   "source": [
    "from src.models.perlin_attention.modules import CausalConv2d\n",
    "import torch"
   ]
  },
  {
   "cell_type": "code",
   "execution_count": 8,
   "metadata": {},
   "outputs": [
    {
     "data": {
      "text/plain": [
       "(tensor([[[[1, 0, 0, 0],\n",
       "           [2, 2, 0, 0],\n",
       "           [0, 2, 2, 0],\n",
       "           [0, 0, 2, 2]],\n",
       " \n",
       "          [[1, 0, 0, 0],\n",
       "           [2, 2, 0, 0],\n",
       "           [0, 2, 2, 0],\n",
       "           [0, 0, 2, 2]],\n",
       " \n",
       "          [[1, 0, 0, 0],\n",
       "           [2, 2, 0, 0],\n",
       "           [0, 2, 2, 0],\n",
       "           [0, 0, 2, 2]]]]),\n",
       " torch.Size([1, 3, 4, 4]))"
      ]
     },
     "execution_count": 8,
     "metadata": {},
     "output_type": "execute_result"
    }
   ],
   "source": [
    "x = (torch.eye(8)).view(1, 1, 8, 8)\n",
    "c = CausalConv2d(1, 3, 3, padding=1, stride=2, causal=True)\n",
    "c.bias.data.fill_(0)\n",
    "c.weight.data.fill_(1)\n",
    "out = c(x)\n",
    "out.long(), out.shape"
   ]
  },
  {
   "cell_type": "code",
   "execution_count": null,
   "metadata": {},
   "outputs": [],
   "source": []
  }
 ],
 "metadata": {
  "kernelspec": {
   "display_name": "torch",
   "language": "python",
   "name": "python3"
  },
  "language_info": {
   "codemirror_mode": {
    "name": "ipython",
    "version": 3
   },
   "file_extension": ".py",
   "mimetype": "text/x-python",
   "name": "python",
   "nbconvert_exporter": "python",
   "pygments_lexer": "ipython3",
   "version": "3.9.16"
  },
  "orig_nbformat": 4
 },
 "nbformat": 4,
 "nbformat_minor": 2
}
