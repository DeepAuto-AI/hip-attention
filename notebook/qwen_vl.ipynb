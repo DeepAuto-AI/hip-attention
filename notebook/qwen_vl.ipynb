{
 "cells": [
  {
   "cell_type": "code",
   "execution_count": null,
   "metadata": {},
   "outputs": [],
   "source": [
    "from transformers import AutoModelForCausalLM, AutoTokenizer, BitsAndBytesConfig\n",
    "from transformers.generation import GenerationConfig\n",
    "from hip.models.qwen.modeling_qwen import QWenLMHeadModel\n",
    "import torch\n",
    "torch.manual_seed(1234)"
   ]
  },
  {
   "cell_type": "code",
   "execution_count": null,
   "metadata": {},
   "outputs": [],
   "source": [
    "tokenizer = AutoTokenizer.from_pretrained(\"Qwen/Qwen-VL\", trust_remote_code=True)"
   ]
  },
  {
   "cell_type": "code",
   "execution_count": null,
   "metadata": {},
   "outputs": [],
   "source": [
    "model = QWenLMHeadModel.from_pretrained(\n",
    "    \"Qwen/Qwen-VL\", \n",
    "    device_map=\"auto\", \n",
    "    trust_remote_code=True, \n",
    "    torch_dtype=torch.float16,\n",
    "    load_in_4bit=True,\n",
    "    quantization_config=BitsAndBytesConfig(\n",
    "        load_in_4bit=True,\n",
    "        bnb_4bit_compute_dtype=torch.float16,\n",
    "        llm_int8_skip_modules=['visual']\n",
    "    ),\n",
    "    fp16=True,\n",
    ").eval()\n"
   ]
  },
  {
   "cell_type": "code",
   "execution_count": null,
   "metadata": {},
   "outputs": [],
   "source": [
    "query = tokenizer.from_list_format([\n",
    "    {'image': 'notebook/mmmu_image.png'},\n",
    "    # {'image': 'https://qianwen-res.oss-cn-beijing.aliyuncs.com/Qwen-VL/assets/demo.jpeg'},\n",
    "    # {'text': 'Each of the following situations relates to a different company. For company B, find the missing amounts. \\n\\n A: $63,020 \\n\\n B: $58,410 \\n\\n C: $71,320 \\n\\n D: $77,490 \\n\\n Answer:'},\n",
    "])\n",
    "print(query)\n",
    "inputs = tokenizer(query, return_tensors='pt')\n",
    "inputs = inputs.to(model.device)\n",
    "\n",
    "print(inputs.keys(), inputs.input_ids.shape, print(inputs.input_ids))\n",
    "\n",
    "with torch.no_grad():\n",
    "    pred = model.generate(**inputs, do_sample=False)\n",
    "\n",
    "print(pred.shape)\n",
    "\n",
    "response = tokenizer.decode(pred.cpu()[0], skip_special_tokens=False)\n",
    "print(response)"
   ]
  },
  {
   "cell_type": "code",
   "execution_count": 6,
   "metadata": {},
   "outputs": [],
   "source": [
    "with torch.no_grad():\n",
    "    output = model(**inputs)"
   ]
  },
  {
   "cell_type": "code",
   "execution_count": null,
   "metadata": {},
   "outputs": [],
   "source": [
    "output.logits.shape"
   ]
  },
  {
   "cell_type": "code",
   "execution_count": 5,
   "metadata": {},
   "outputs": [],
   "source": [
    "import datasets, json"
   ]
  },
  {
   "cell_type": "code",
   "execution_count": 3,
   "metadata": {},
   "outputs": [],
   "source": [
    "ds = datasets.load_dataset('MMMU/MMMU', 'Accounting')"
   ]
  },
  {
   "cell_type": "code",
   "execution_count": null,
   "metadata": {},
   "outputs": [],
   "source": [
    "json.loads(ds['validation'][0]['options'].replace(\"'\", '\"'))"
   ]
  },
  {
   "cell_type": "code",
   "execution_count": null,
   "metadata": {},
   "outputs": [],
   "source": [
    "query = tokenizer.from_list_format([\n",
    "    {'image': ds['validation'][0]['image_1']},\n",
    "    # {'image': 'https://qianwen-res.oss-cn-beijing.aliyuncs.com/Qwen-VL/assets/demo.jpeg'},\n",
    "    # {'text': 'Each of the following situations relates to a different company. For company B, find the missing amounts. \\n\\n A: $63,020 \\n\\n B: $58,410 \\n\\n C: $71,320 \\n\\n D: $77,490 \\n\\n Answer:'},\n",
    "])\n",
    "query"
   ]
  },
  {
   "cell_type": "code",
   "execution_count": null,
   "metadata": {},
   "outputs": [],
   "source": [
    "datasets.load_dataset('./cache/MMMU/Accounting', 'dev')"
   ]
  },
  {
   "cell_type": "code",
   "execution_count": null,
   "metadata": {},
   "outputs": [],
   "source": []
  },
  {
   "cell_type": "code",
   "execution_count": null,
   "metadata": {},
   "outputs": [],
   "source": [
    "import json\n",
    "json.loads('[\"One pathogen\", \"Two pathogens\", \"Three pathogens\", \"There is no pathogen involved\", \"I don\\\\\"t know and I don\\\\\"t want to guess\"]')"
   ]
  },
  {
   "cell_type": "code",
   "execution_count": null,
   "metadata": {},
   "outputs": [],
   "source": [
    "eval(\"['a']\")"
   ]
  },
  {
   "cell_type": "code",
   "execution_count": null,
   "metadata": {},
   "outputs": [],
   "source": []
  }
 ],
 "metadata": {
  "kernelspec": {
   "display_name": "torch",
   "language": "python",
   "name": "python3"
  },
  "language_info": {
   "codemirror_mode": {
    "name": "ipython",
    "version": 3
   },
   "file_extension": ".py",
   "mimetype": "text/x-python",
   "name": "python",
   "nbconvert_exporter": "python",
   "pygments_lexer": "ipython3",
   "version": "3.9.18"
  }
 },
 "nbformat": 4,
 "nbformat_minor": 2
}
